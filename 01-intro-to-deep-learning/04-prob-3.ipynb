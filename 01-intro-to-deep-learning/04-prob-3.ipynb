{
 "cells": [
  {
   "cell_type": "code",
   "execution_count": 1,
   "metadata": {},
   "outputs": [
    {
     "name": "stderr",
     "output_type": "stream",
     "text": [
      "Using TensorFlow backend.\n"
     ]
    },
    {
     "name": "stdout",
     "output_type": "stream",
     "text": [
      "60000 (28, 28)\n",
      "60000 5\n"
     ]
    }
   ],
   "source": [
    "# For drawing the MNIST digits as well as plots to help us evaluate performance we\n",
    "# will make extensive use of matplotlib\n",
    "from matplotlib import pyplot as plt\n",
    "\n",
    "# All of the Keras datasets are in keras.datasets\n",
    "from keras.datasets import mnist\n",
    "\n",
    "# Keras has already split the data into training and test data\n",
    "(training_images, training_labels), (test_images, test_labels) = mnist.load_data()\n",
    "\n",
    "# Training images is a list of 60,000 2D lists.\n",
    "# Each 2D list is 28 by 28—the size of the MNIST pixel data.\n",
    "# Each item in the 2D array is an integer from 0 to 255 representing its grayscale\n",
    "# intensity where 0 means white, 255 means black.\n",
    "print(len(training_images), training_images[0].shape)\n",
    "\n",
    "# training_labels are a value between 0 and 9 indicating which digit is represented.\n",
    "# The first item in the training data is a 5\n",
    "print(len(training_labels), training_labels[0])\n"
   ]
  },
  {
   "cell_type": "code",
   "execution_count": 2,
   "metadata": {},
   "outputs": [],
   "source": [
    "from keras.utils import to_categorical\n",
    "\n",
    "# Preparing the dataset\n",
    "# Setup train and test splits\n",
    "(training_images, training_labels), (test_images, test_labels) = mnist.load_data()\n",
    "\n",
    "\n",
    "# 28 x 28 = 784, because that's the dimensions of the MNIST data.\n",
    "image_size = 784\n",
    "\n",
    "# Reshaping the training_images and test_images to lists of vectors with length 784\n",
    "# instead of lists of 2D arrays. Same for the test_images\n",
    "training_data = training_images.reshape(training_images.shape[0], image_size) \n",
    "test_data = test_images.reshape(test_images.shape[0], image_size)"
   ]
  },
  {
   "cell_type": "code",
   "execution_count": 3,
   "metadata": {},
   "outputs": [],
   "source": [
    "# Create 1-hot encoded vectors using to_categorical\n",
    "num_classes = 10 # Because it's how many digits we have (0-9) \n",
    "\n",
    "# to_categorical takes a list of integers (our labels) and makes them into 1-hot vectors\n",
    "training_labels = to_categorical(training_labels, num_classes)\n",
    "test_labels = to_categorical(test_labels, num_classes)"
   ]
  },
  {
   "cell_type": "code",
   "execution_count": 13,
   "metadata": {},
   "outputs": [
    {
     "name": "stdout",
     "output_type": "stream",
     "text": [
      "Model: \"sequential_3\"\n",
      "_________________________________________________________________\n",
      "Layer (type)                 Output Shape              Param #   \n",
      "=================================================================\n",
      "dense_9 (Dense)              (None, 512)               401920    \n",
      "_________________________________________________________________\n",
      "dense_10 (Dense)             (None, 128)               65664     \n",
      "_________________________________________________________________\n",
      "dense_11 (Dense)             (None, 32)                4128      \n",
      "_________________________________________________________________\n",
      "dense_12 (Dense)             (None, 10)                330       \n",
      "=================================================================\n",
      "Total params: 472,042\n",
      "Trainable params: 472,042\n",
      "Non-trainable params: 0\n",
      "_________________________________________________________________\n"
     ]
    }
   ],
   "source": [
    "from keras.models import Sequential\n",
    "from keras.layers import Dense\n",
    "\n",
    "# Sequential models are a series of layers applied linearly.\n",
    "model = Sequential()\n",
    "\n",
    "# The first layer must specify it's input_shape.\n",
    "# This is how the first two layers are added, the input layer and the hidden layer.\n",
    "\n",
    "model.add(Dense(units=512, activation='sigmoid', input_shape=(image_size,)))\n",
    "model.add(Dense(units=128, activation='sigmoid'))\n",
    "model.add(Dense(units=32, activation='sigmoid'))\n",
    "\n",
    "# This is how the output layer gets added, the 'softmax' activation function ensures\n",
    "# that the sum of the values in the output nodes is 1. Softmax is very\n",
    "# common in classification networks. \n",
    "model.add(Dense(units=num_classes, activation='softmax'))\n",
    "\n",
    "# This function provides useful text data for our network\n",
    "model.summary()"
   ]
  },
  {
   "cell_type": "code",
   "execution_count": 14,
   "metadata": {},
   "outputs": [
    {
     "name": "stdout",
     "output_type": "stream",
     "text": [
      "Train on 54000 samples, validate on 6000 samples\n",
      "Epoch 1/20\n",
      "54000/54000 [==============================] - 5s 84us/step - loss: 2.1454 - accuracy: 0.4464 - val_loss: 1.9290 - val_accuracy: 0.6983\n",
      "Epoch 2/20\n",
      "54000/54000 [==============================] - 4s 82us/step - loss: 1.6889 - accuracy: 0.7031 - val_loss: 1.4158 - val_accuracy: 0.7813\n",
      "Epoch 3/20\n",
      "54000/54000 [==============================] - 4s 83us/step - loss: 1.2411 - accuracy: 0.7676 - val_loss: 1.0207 - val_accuracy: 0.8290\n",
      "Epoch 4/20\n",
      "54000/54000 [==============================] - 6s 110us/step - loss: 0.9309 - accuracy: 0.8181 - val_loss: 0.7649 - val_accuracy: 0.8717\n",
      "Epoch 5/20\n",
      "54000/54000 [==============================] - 7s 139us/step - loss: 0.7298 - accuracy: 0.8543 - val_loss: 0.5989 - val_accuracy: 0.8925\n",
      "Epoch 6/20\n",
      "54000/54000 [==============================] - 7s 138us/step - loss: 0.5948 - accuracy: 0.8753 - val_loss: 0.4859 - val_accuracy: 0.9103\n",
      "Epoch 7/20\n",
      "54000/54000 [==============================] - 7s 130us/step - loss: 0.4994 - accuracy: 0.8916 - val_loss: 0.4088 - val_accuracy: 0.9203\n",
      "Epoch 8/20\n",
      "54000/54000 [==============================] - 7s 129us/step - loss: 0.4312 - accuracy: 0.9027 - val_loss: 0.3547 - val_accuracy: 0.9282\n",
      "Epoch 9/20\n",
      "54000/54000 [==============================] - 7s 131us/step - loss: 0.3809 - accuracy: 0.9116 - val_loss: 0.3159 - val_accuracy: 0.9295\n",
      "Epoch 10/20\n",
      "54000/54000 [==============================] - 7s 128us/step - loss: 0.3422 - accuracy: 0.9187 - val_loss: 0.2858 - val_accuracy: 0.9338\n",
      "Epoch 11/20\n",
      "54000/54000 [==============================] - 7s 131us/step - loss: 0.3116 - accuracy: 0.9253 - val_loss: 0.2643 - val_accuracy: 0.9392\n",
      "Epoch 12/20\n",
      "54000/54000 [==============================] - 7s 135us/step - loss: 0.2878 - accuracy: 0.9295 - val_loss: 0.2430 - val_accuracy: 0.9430\n",
      "Epoch 13/20\n",
      "54000/54000 [==============================] - 7s 131us/step - loss: 0.2662 - accuracy: 0.9344 - val_loss: 0.2275 - val_accuracy: 0.9463\n",
      "Epoch 14/20\n",
      "54000/54000 [==============================] - 10s 188us/step - loss: 0.2476 - accuracy: 0.9386 - val_loss: 0.2139 - val_accuracy: 0.9492\n",
      "Epoch 15/20\n",
      "54000/54000 [==============================] - 10s 186us/step - loss: 0.2320 - accuracy: 0.9422 - val_loss: 0.2047 - val_accuracy: 0.9520\n",
      "Epoch 16/20\n",
      "54000/54000 [==============================] - 10s 193us/step - loss: 0.2190 - accuracy: 0.9457 - val_loss: 0.1936 - val_accuracy: 0.9533\n",
      "Epoch 17/20\n",
      "54000/54000 [==============================] - 10s 181us/step - loss: 0.2058 - accuracy: 0.9497 - val_loss: 0.1857 - val_accuracy: 0.9548\n",
      "Epoch 18/20\n",
      "54000/54000 [==============================] - 7s 133us/step - loss: 0.1951 - accuracy: 0.9509 - val_loss: 0.1791 - val_accuracy: 0.9568\n",
      "Epoch 19/20\n",
      "54000/54000 [==============================] - 7s 133us/step - loss: 0.1851 - accuracy: 0.9541 - val_loss: 0.1731 - val_accuracy: 0.9575\n",
      "Epoch 20/20\n",
      "54000/54000 [==============================] - 7s 136us/step - loss: 0.1750 - accuracy: 0.9563 - val_loss: 0.1667 - val_accuracy: 0.9587\n"
     ]
    }
   ],
   "source": [
    "# sgd stands for stochastic gradient descent.\n",
    "# categorical_crossentropy is a common loss function used for categorical classification.\n",
    "# accuracy is the percent of predictions that were correct.\n",
    "model.compile(optimizer=\"sgd\", loss='categorical_crossentropy', metrics=['accuracy'])\n",
    "\n",
    "# The network will make predictions for 128 flattened images per correction.\n",
    "# It will make a prediction on each item in the training set 5 times (5 epochs)\n",
    "# And 10% of the data will be used as validation data.\n",
    "history = model.fit(training_data, training_labels, batch_size=64, epochs=20, verbose=True, validation_split=.1)"
   ]
  },
  {
   "cell_type": "code",
   "execution_count": 15,
   "metadata": {},
   "outputs": [
    {
     "name": "stdout",
     "output_type": "stream",
     "text": [
      "10000/10000 [==============================] - 1s 61us/step\n"
     ]
    },
    {
     "data": {
      "image/png": "[encoded data removed]",
      "text/plain": [
       "<Figure size 432x288 with 1 Axes>"
      ]
     },
     "metadata": {
      "needs_background": "light"
     },
     "output_type": "display_data"
    },
    {
     "data": {
      "image/png": "[encoded data removed]",
      "text/plain": [
       "<Figure size 432x288 with 1 Axes>"
      ]
     },
     "metadata": {
      "needs_background": "light"
     },
     "output_type": "display_data"
    },
    {
     "name": "stdout",
     "output_type": "stream",
     "text": [
      "Test loss: 0.191\n",
      "Test accuracy: 0.95\n"
     ]
    }
   ],
   "source": [
    "loss, accuracy  = model.evaluate(test_data, test_labels, verbose=True)\n",
    "\n",
    "plt.plot(history.history['accuracy'])\n",
    "plt.plot(history.history['val_accuracy'])\n",
    "plt.title('model accuracy')\n",
    "plt.ylabel('accuracy')\n",
    "plt.xlabel('epoch')\n",
    "plt.legend(['training', 'validation'], loc='best')\n",
    "\n",
    "plt.show()\n",
    "\n",
    "plt.plot(history.history['loss'])\n",
    "plt.plot(history.history['val_loss'])\n",
    "plt.title('model loss')\n",
    "plt.ylabel('loss')\n",
    "plt.xlabel('epoch')\n",
    "plt.legend(['training', 'validation'], loc='best')\n",
    "\n",
    "plt.show()\n",
    "\n",
    "print(f'Test loss: {loss:.3}')\n",
    "print(f'Test accuracy: {accuracy:.3}')"
   ]
  },
  {
   "cell_type": "markdown",
   "metadata": {},
   "source": [
    "Build a network with at least 3 hidden layers that achieves better than 92% accuracy on validation and test data. You may need to train for more than 10 epochs to achieve this result.\n",
    "\n",
    "* Compare your best results to the result you got in part one:\n",
    "  * Which network achieved the best accuracy on test data after training?\n",
    "     * The network with three layers had a test accuracy of 95% and a validation accuracy of 95.9% and performed better than the model from question 1\n",
    "  * Did the networks train for a similar number of epochs?\n",
    "     * The model with three layers required at least three times the number of epochs to be equivalent to the network in problem 1\n"
   ]
  },
  {
   "cell_type": "code",
   "execution_count": null,
   "metadata": {},
   "outputs": [],
   "source": []
  },
  {
   "cell_type": "code",
   "execution_count": null,
   "metadata": {},
   "outputs": [],
   "source": []
  }
 ],
 "metadata": {
  "kernelspec": {
   "display_name": "Python 3",
   "language": "python",
   "name": "python3"
  },
  "language_info": {
   "codemirror_mode": {
    "name": "ipython",
    "version": 3
   },
   "file_extension": ".py",
   "mimetype": "text/x-python",
   "name": "python",
   "nbconvert_exporter": "python",
   "pygments_lexer": "ipython3",
   "version": "3.7.4"
  }
 },
 "nbformat": 4,
 "nbformat_minor": 4
}
